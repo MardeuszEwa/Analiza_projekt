{
 "cells": [
  {
   "cell_type": "markdown",
   "id": "9417a211-af7a-4913-953c-ddb00fb41474",
   "metadata": {
    "tags": []
   },
   "source": [
    "# Zadanie 2a\n",
    "**Wygeneruj zbiór danych zgodnych z wybranym przez siebie rozkładem prawdopodobieństwa. Parametry dowolne - wcześniej określone w komentarzu. Opisz ten zbiór danych i zapisz go do pliku - dobierz i uzasadnij format zapisu.**"
   ]
  },
  {
   "cell_type": "code",
   "execution_count": 1,
   "id": "c45fd606-62d9-4f40-9fa0-8c615e113a73",
   "metadata": {},
   "outputs": [],
   "source": [
    "# importujemy potrzbne biblioteki\n",
    "import numpy as np\n",
    "import seaborn as sns\n",
    "import matplotlib.pyplot as plt\n",
    "import pandas as pd\n",
    "\n"
   ]
  },
  {
   "cell_type": "code",
   "execution_count": 2,
   "id": "863e0ca3-4c60-48d9-8139-5d0b899c6825",
   "metadata": {},
   "outputs": [
    {
     "data": {
      "text/html": [
       "<div>\n",
       "<style scoped>\n",
       "    .dataframe tbody tr th:only-of-type {\n",
       "        vertical-align: middle;\n",
       "    }\n",
       "\n",
       "    .dataframe tbody tr th {\n",
       "        vertical-align: top;\n",
       "    }\n",
       "\n",
       "    .dataframe thead th {\n",
       "        text-align: right;\n",
       "    }\n",
       "</style>\n",
       "<table border=\"1\" class=\"dataframe\">\n",
       "  <thead>\n",
       "    <tr style=\"text-align: right;\">\n",
       "      <th></th>\n",
       "      <th>wartość</th>\n",
       "    </tr>\n",
       "  </thead>\n",
       "  <tbody>\n",
       "    <tr>\n",
       "      <th>0</th>\n",
       "      <td>-23.680527</td>\n",
       "    </tr>\n",
       "    <tr>\n",
       "      <th>1</th>\n",
       "      <td>-8.083225</td>\n",
       "    </tr>\n",
       "    <tr>\n",
       "      <th>2</th>\n",
       "      <td>-10.543732</td>\n",
       "    </tr>\n",
       "    <tr>\n",
       "      <th>3</th>\n",
       "      <td>-2.950504</td>\n",
       "    </tr>\n",
       "    <tr>\n",
       "      <th>4</th>\n",
       "      <td>-5.793309</td>\n",
       "    </tr>\n",
       "  </tbody>\n",
       "</table>\n",
       "</div>"
      ],
      "text/plain": [
       "     wartość\n",
       "0 -23.680527\n",
       "1  -8.083225\n",
       "2 -10.543732\n",
       "3  -2.950504\n",
       "4  -5.793309"
      ]
     },
     "execution_count": 2,
     "metadata": {},
     "output_type": "execute_result"
    }
   ],
   "source": [
    "# tworzymy zbiór rozkłądu normalnego i zapisujemy go do postaci pandas data frame\n",
    "# parametry to:\n",
    "#  środek:0 odchylenie standardowe: 10, liczebność: 70\n",
    "df = pd.DataFrame(np.random.normal(0,10,70))\n",
    "df.columns = ['wartość']\n",
    "df.head()"
   ]
  },
  {
   "cell_type": "code",
   "execution_count": 3,
   "id": "1e9dd60a-1ef5-45e0-a74d-7cb0b09e0147",
   "metadata": {},
   "outputs": [],
   "source": [
    "# Zapis do pliku .csv\n",
    "df.to_csv('/home/studentb10/Sprawozdanie_Dawid_Ewa/Zadanie_2/plik_a.csv')\n"
   ]
  },
  {
   "cell_type": "code",
   "execution_count": 4,
   "id": "b7e82f5b-117d-48ba-9ef4-be2dd5dc71b8",
   "metadata": {},
   "outputs": [
    {
     "data": {
      "text/html": [
       "<div>\n",
       "<style scoped>\n",
       "    .dataframe tbody tr th:only-of-type {\n",
       "        vertical-align: middle;\n",
       "    }\n",
       "\n",
       "    .dataframe tbody tr th {\n",
       "        vertical-align: top;\n",
       "    }\n",
       "\n",
       "    .dataframe thead th {\n",
       "        text-align: right;\n",
       "    }\n",
       "</style>\n",
       "<table border=\"1\" class=\"dataframe\">\n",
       "  <thead>\n",
       "    <tr style=\"text-align: right;\">\n",
       "      <th></th>\n",
       "      <th>Unnamed: 0</th>\n",
       "      <th>wartość</th>\n",
       "    </tr>\n",
       "  </thead>\n",
       "  <tbody>\n",
       "    <tr>\n",
       "      <th>0</th>\n",
       "      <td>0</td>\n",
       "      <td>-23.680527</td>\n",
       "    </tr>\n",
       "    <tr>\n",
       "      <th>1</th>\n",
       "      <td>1</td>\n",
       "      <td>-8.083225</td>\n",
       "    </tr>\n",
       "    <tr>\n",
       "      <th>2</th>\n",
       "      <td>2</td>\n",
       "      <td>-10.543732</td>\n",
       "    </tr>\n",
       "    <tr>\n",
       "      <th>3</th>\n",
       "      <td>3</td>\n",
       "      <td>-2.950504</td>\n",
       "    </tr>\n",
       "    <tr>\n",
       "      <th>4</th>\n",
       "      <td>4</td>\n",
       "      <td>-5.793309</td>\n",
       "    </tr>\n",
       "    <tr>\n",
       "      <th>...</th>\n",
       "      <td>...</td>\n",
       "      <td>...</td>\n",
       "    </tr>\n",
       "    <tr>\n",
       "      <th>65</th>\n",
       "      <td>65</td>\n",
       "      <td>21.474103</td>\n",
       "    </tr>\n",
       "    <tr>\n",
       "      <th>66</th>\n",
       "      <td>66</td>\n",
       "      <td>6.102880</td>\n",
       "    </tr>\n",
       "    <tr>\n",
       "      <th>67</th>\n",
       "      <td>67</td>\n",
       "      <td>0.541958</td>\n",
       "    </tr>\n",
       "    <tr>\n",
       "      <th>68</th>\n",
       "      <td>68</td>\n",
       "      <td>-5.694902</td>\n",
       "    </tr>\n",
       "    <tr>\n",
       "      <th>69</th>\n",
       "      <td>69</td>\n",
       "      <td>4.406891</td>\n",
       "    </tr>\n",
       "  </tbody>\n",
       "</table>\n",
       "<p>70 rows × 2 columns</p>\n",
       "</div>"
      ],
      "text/plain": [
       "    Unnamed: 0    wartość\n",
       "0            0 -23.680527\n",
       "1            1  -8.083225\n",
       "2            2 -10.543732\n",
       "3            3  -2.950504\n",
       "4            4  -5.793309\n",
       "..         ...        ...\n",
       "65          65  21.474103\n",
       "66          66   6.102880\n",
       "67          67   0.541958\n",
       "68          68  -5.694902\n",
       "69          69   4.406891\n",
       "\n",
       "[70 rows x 2 columns]"
      ]
     },
     "execution_count": 4,
     "metadata": {},
     "output_type": "execute_result"
    }
   ],
   "source": [
    "# Odczyt pliku\n",
    "pd.read_csv('/home/studentb10/Sprawozdanie_Dawid_Ewa/Zadanie_2/plik_a.csv') "
   ]
  },
  {
   "cell_type": "code",
   "execution_count": 5,
   "id": "baa8afdc-0fb7-41c6-be15-b6b786d2d4f6",
   "metadata": {},
   "outputs": [
    {
     "name": "stderr",
     "output_type": "stream",
     "text": [
      "/home/jupyter/.local/share/virtualenvs/WDAD2--NSaxOeQ/lib/python3.9/site-packages/seaborn/distributions.py:2619: FutureWarning: `distplot` is a deprecated function and will be removed in a future version. Please adapt your code to use either `displot` (a figure-level function with similar flexibility) or `histplot` (an axes-level function for histograms).\n",
      "  warnings.warn(msg, FutureWarning)\n"
     ]
    },
    {
     "data": {
      "image/png": "[encoded data removed]",
      "text/plain": [
       "<Figure size 576x288 with 1 Axes>"
      ]
     },
     "metadata": {},
     "output_type": "display_data"
    }
   ],
   "source": [
    "# Sprawdzenie graficzne czy prezentowany rozkład jest rozkładem normalnym za pomocą biblioteki seaborn\n",
    "sns.set(rc={\"figure.figsize\": (8, 4)}); np.random.seed(0)\n",
    "a = sns.distplot(df)\n",
    "plt.show()"
   ]
  },
  {
   "cell_type": "code",
   "execution_count": 6,
   "id": "c47cb147-cb42-4046-812b-22664e204a3b",
   "metadata": {},
   "outputs": [
    {
     "name": "stdout",
     "output_type": "stream",
     "text": [
      "[2.66574052] [0.26371923]\n",
      "Rozkład jest normalny\n"
     ]
    }
   ],
   "source": [
    "# Wybór odpowiednich testów oraz ich użycie \n",
    "#Test D’Agostino–Pearson\n",
    "from scipy.stats import normaltest\n",
    "stats, p = normaltest(df)\n",
    "print(stats, p)\n",
    "if p > 0.05:\n",
    "    print (\"Rozkład jest normalny\")\n",
    "else:\n",
    "    print(\"Rozkład nie jest normalny\")"
   ]
  },
  {
   "cell_type": "code",
   "execution_count": 7,
   "id": "319dd8a6-3afe-4e30-a931-91ecf2431049",
   "metadata": {},
   "outputs": [
    {
     "name": "stdout",
     "output_type": "stream",
     "text": [
      "0.97955322265625 0.30851614475250244\n",
      "Rozkład jest normalny\n"
     ]
    }
   ],
   "source": [
    "# Test Shapiro-Wilk\n",
    "from scipy.stats import shapiro\n",
    "stats, p = shapiro(df)\n",
    "print(stats,p)\n",
    "if p > 0.05:\n",
    "    print (\"Rozkład jest normalny\")\n",
    "else:\n",
    "    print(\"Rozkład nie jest normalny\")"
   ]
  },
  {
   "cell_type": "markdown",
   "id": "7d817381-3338-4fd7-9db3-b96962c2aed3",
   "metadata": {},
   "source": [
    "# Koniec zadania 2a"
   ]
  }
 ],
 "metadata": {
  "kernelspec": {
   "display_name": "WDAD2",
   "language": "python",
   "name": "wdad2"
  },
  "language_info": {
   "codemirror_mode": {
    "name": "ipython",
    "version": 3
   },
   "file_extension": ".py",
   "mimetype": "text/x-python",
   "name": "python",
   "nbconvert_exporter": "python",
   "pygments_lexer": "ipython3",
   "version": "3.9.7"
  }
 },
 "nbformat": 4,
 "nbformat_minor": 5
}
